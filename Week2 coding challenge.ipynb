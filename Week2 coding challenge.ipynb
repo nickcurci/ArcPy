{
 "cells": [
  {
   "cell_type": "markdown",
   "metadata": {},
   "source": [
    "1. List values\n",
    "Using this list:\n",
    "[1, 2, 3, 6, 8, 12, 20, 32, 46, 85]\n",
    "Make a new list that has all the elements less than 5 from this list in it and print out this new list.\n",
    "Write this in one line of Python. "
   ]
  },
  {
   "cell_type": "code",
   "execution_count": 6,
   "metadata": {},
   "outputs": [
    {
     "name": "stdout",
     "output_type": "stream",
     "text": [
      "[1, 2, 3]\n"
     ]
    }
   ],
   "source": [
    "a = [1, 2, 3, 6, 8, 12, 20, 32, 46, 85]\n",
    "b = []\n",
    "for number in a:\n",
    "    if number < 5:\n",
    "        b.append(number)\n",
    "print(b)"
   ]
  },
  {
   "cell_type": "code",
   "execution_count": null,
   "metadata": {},
   "outputs": [],
   "source": []
  },
  {
   "cell_type": "markdown",
   "metadata": {},
   "source": [
    "2. List overlap\n",
    "Using these lists:\n",
    "\n",
    "list_a = ['dog', 'cat', 'rabbit', 'hamster', 'gerbil']\n",
    "list_b = ['dog', 'hamster', 'snake']\n",
    "Determine which items are present in both lists.\n",
    "Determine which items do not overlap in the lists."
   ]
  },
  {
   "cell_type": "code",
   "execution_count": 24,
   "metadata": {},
   "outputs": [
    {
     "name": "stdout",
     "output_type": "stream",
     "text": [
      "['dog', 'hamster']\n"
     ]
    }
   ],
   "source": [
    "list_a = ['dog', 'cat', 'rabbit', 'hamster', 'gerbil']\n",
    "list_b = ['dog', 'hamster', 'snake']\n",
    "\n",
    "a = set(list_a)\n",
    "intersection = a.intersection(list_b)\n",
    "\n",
    "c = list(intersection)\n",
    "\n",
    "print(c)\n",
    "\n"
   ]
  },
  {
   "cell_type": "code",
   "execution_count": 22,
   "metadata": {},
   "outputs": [
    {
     "name": "stdout",
     "output_type": "stream",
     "text": [
      "{'gerbil', 'rabbit', 'snake', 'cat'}\n"
     ]
    }
   ],
   "source": [
    "d = set(list_a).symmetric_difference(list_b)\n",
    "print(d)"
   ]
  },
  {
   "cell_type": "code",
   "execution_count": 25,
   "metadata": {},
   "outputs": [
    {
     "name": "stdout",
     "output_type": "stream",
     "text": [
      "{'gerbil', 'rabbit', 'snake', 'cat'}\n"
     ]
    }
   ],
   "source": [
    "e = set(list_a) ^ set(list_b)\n",
    "print(e)"
   ]
  },
  {
   "cell_type": "code",
   "execution_count": null,
   "metadata": {},
   "outputs": [],
   "source": []
  },
  {
   "cell_type": "markdown",
   "metadata": {},
   "source": [
    "3. Given a singe phrase, count the occurrence of each word\n",
    "Using this string:\n",
    "\n",
    "string = 'hi dee hi how are you mr dee'\n",
    "Count the occurrence of each word, and print the word plus the count."
   ]
  },
  {
   "cell_type": "code",
   "execution_count": 44,
   "metadata": {},
   "outputs": [
    {
     "name": "stdout",
     "output_type": "stream",
     "text": [
      "word count: {'hi': 2, 'dee': 2, 'how': 1, 'are': 1, 'you': 1, 'mr': 1}\n",
      "total words: 8\n"
     ]
    }
   ],
   "source": [
    "sentence = 'hi dee hi how are you mr dee'\n",
    "\n",
    "words = sentence.split(' ')\n",
    "result = {}    \n",
    "for word in words:                                                                                                                                                                                               \n",
    "    result[word] = result.get(word, 0) + 1 \n",
    "\n",
    "total = len(sentence.split())\n",
    "print('word count:', result)\n",
    "print('total words:',total)"
   ]
  },
  {
   "cell_type": "markdown",
   "metadata": {},
   "source": [
    "4. User input\n",
    "Ask the user for an input of their current age, and tell them how many years until they reach retirement (65 years old).\n",
    "\n",
    "Hint:\n",
    "\n",
    "age = input(\"What is your age? \")\n",
    "print \"Your age is \" + str(age)"
   ]
  },
  {
   "cell_type": "code",
   "execution_count": 86,
   "metadata": {},
   "outputs": [
    {
     "name": "stdin",
     "output_type": "stream",
     "text": [
      "What is your age?  100\n"
     ]
    },
    {
     "name": "stdout",
     "output_type": "stream",
     "text": [
      "stop working, youre too old\n"
     ]
    }
   ],
   "source": [
    "age = int(input(\"What is your age? \"))\n",
    "ret = 65\n",
    "if age > ret:\n",
    "    print(\"stop working, youre too old\")\n",
    "elif age == ret:\n",
    "    print(\"you retire this year\")\n",
    "else:\n",
    "        retage = ret-int(age)\n",
    "        print(\"you have \", retage, \" years until retirement, yikes...\")\n"
   ]
  },
  {
   "cell_type": "markdown",
   "metadata": {},
   "source": [
    "5. User input 2\n",
    "Using the following dictionary, ask the user for a word, and compute the Scrabble word score for that word (Scrabble is a word game, where players make words from letters, each letter is worth a point value):\n",
    "\n",
    "letter_scores = {\n",
    "    \"aeioulnrst\": 1,\n",
    "    \"dg\": 2,\n",
    "    \"bcmp\": 3,\n",
    "    \"fhvwy\": 4,\n",
    "    \"k\": 5,\n",
    "    \"jx\": 8,\n",
    "    \"qz\": 10\n",
    "}"
   ]
  },
  {
   "cell_type": "code",
   "execution_count": 26,
   "metadata": {},
   "outputs": [
    {
     "name": "stdin",
     "output_type": "stream",
     "text": [
      "Enter a word: as\n"
     ]
    },
    {
     "name": "stdout",
     "output_type": "stream",
     "text": [
      "your entered word is: as\n",
      "your word score is:  2\n"
     ]
    }
   ],
   "source": [
    "letter_scores = {'a': 1, 'b': 3, 'c': 3, 'd': 2, 'e': 1, 'f': 4,\n",
    "'g': 2, 'h': 4, 'i': 1, 'j': 8, 'k': 5, 'l': 1,\n",
    "'m': 3, 'n': 1, 'o': 1, 'p': 3, 'q': 10, 'r': 1,\n",
    "'s': 1, 't': 1, 'u': 1, 'v': 4, 'w': 4, 'x': 8,\n",
    "'y': 4, 'z': 10,}\n",
    "\n",
    "word = input('Enter a word:')\n",
    "print('your entered word is:', word)\n",
    "\n",
    "word_score = 0\n",
    "for letter in word:\n",
    "    word_score += letter_scores[letter]\n",
    "\n",
    "print('your word score is: ', word_score)\n"
   ]
  },
  {
   "cell_type": "code",
   "execution_count": null,
   "metadata": {},
   "outputs": [],
   "source": []
  },
  {
   "cell_type": "code",
   "execution_count": null,
   "metadata": {},
   "outputs": [],
   "source": []
  }
 ],
 "metadata": {
  "kernelspec": {
   "display_name": "Python 3",
   "language": "python",
   "name": "python3"
  },
  "language_info": {
   "codemirror_mode": {
    "name": "ipython",
    "version": 3
   },
   "file_extension": ".py",
   "mimetype": "text/x-python",
   "name": "python",
   "nbconvert_exporter": "python",
   "pygments_lexer": "ipython3",
   "version": "3.7.1"
  }
 },
 "nbformat": 4,
 "nbformat_minor": 2
}
